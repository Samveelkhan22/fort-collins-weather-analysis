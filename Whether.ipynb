{
  "nbformat": 4,
  "nbformat_minor": 0,
  "metadata": {
    "colab": {
      "provenance": []
    },
    "kernelspec": {
      "name": "python3",
      "display_name": "Python 3"
    },
    "language_info": {
      "name": "python"
    }
  },
  "cells": [
    {
      "cell_type": "markdown",
      "source": [
        "#Step 0: Variables"
      ],
      "metadata": {
        "id": "BJOoOBuh4EpO"
      }
    },
    {
      "cell_type": "code",
      "execution_count": 1,
      "metadata": {
        "id": "WvADT46LnYaw"
      },
      "outputs": [],
      "source": [
        "date_index = 0\n",
        "temp_index = 2\n"
      ]
    },
    {
      "cell_type": "markdown",
      "source": [
        "#Step 1: csv_reader(file)"
      ],
      "metadata": {
        "id": "HqTNuI9Q4KwJ"
      }
    },
    {
      "cell_type": "code",
      "source": [
        "import csv\n",
        "\n",
        "def csv_reader(file):\n",
        "    with open(file, 'r') as f:\n",
        "        reader = csv.reader(f)\n",
        "        next(reader)  # Skip header\n",
        "        data = [row for row in reader]\n",
        "    return data\n"
      ],
      "metadata": {
        "id": "0qtVmTCm3Rm_"
      },
      "execution_count": 2,
      "outputs": []
    },
    {
      "cell_type": "markdown",
      "source": [
        "# Step 2: client_input()"
      ],
      "metadata": {
        "id": "MZ4BGNz_4PZv"
      }
    },
    {
      "cell_type": "code",
      "source": [
        "def client_input():\n",
        "    return input(\"Please enter a filter: \")"
      ],
      "metadata": {
        "id": "S8NaZATS4Q9c"
      },
      "execution_count": 10,
      "outputs": []
    },
    {
      "cell_type": "markdown",
      "source": [
        "# Step 3: average_temperature(weather, filter)"
      ],
      "metadata": {
        "id": "hSdeVQ7Z4eS3"
      }
    },
    {
      "cell_type": "code",
      "source": [
        "def average_temperature(weather, filter):\n",
        "    total_temp = 0\n",
        "    count = 0\n",
        "    for row in weather:\n",
        "        if filter in row[date_index]:\n",
        "            try:\n",
        "                total_temp += float(row[temp_index])\n",
        "                count += 1\n",
        "            except ValueError:\n",
        "                pass  # Handle missing temperature\n",
        "    if count == 0:\n",
        "        return 0  # To avoid division by zero\n",
        "    return total_temp / count\n"
      ],
      "metadata": {
        "id": "50YrnWxi3SCI"
      },
      "execution_count": 11,
      "outputs": []
    },
    {
      "cell_type": "markdown",
      "source": [
        "# Step 4: maximum_temperature(weather, filter)\n"
      ],
      "metadata": {
        "id": "uX-GSggV4ilV"
      }
    },
    {
      "cell_type": "code",
      "source": [
        "def maximum_temperature(weather, filter):\n",
        "    max_temp = float('-inf')\n",
        "    for row in weather:\n",
        "        if filter in row[date_index]:\n",
        "            try:\n",
        "                temp = float(row[temp_index])\n",
        "                if temp > max_temp:\n",
        "                    max_temp = temp\n",
        "            except ValueError:\n",
        "                pass  # Handle missing temperature\n",
        "    return max_temp\n"
      ],
      "metadata": {
        "id": "RKztWUPk3SFJ"
      },
      "execution_count": 4,
      "outputs": []
    },
    {
      "cell_type": "markdown",
      "source": [
        "# Step 5: minimum_temperature(weather, filter)"
      ],
      "metadata": {
        "id": "d44Wvd-Z4nLc"
      }
    },
    {
      "cell_type": "code",
      "source": [
        "def minimum_temperature(weather, filter):\n",
        "    min_temp = float('inf')\n",
        "    for row in weather:\n",
        "        if filter in row[date_index]:\n",
        "            try:\n",
        "                temp = float(row[temp_index])\n",
        "                if temp < min_temp:\n",
        "                    min_temp = temp\n",
        "            except ValueError:\n",
        "                pass  # Handle missing temperature\n",
        "    return min_temp\n"
      ],
      "metadata": {
        "id": "q2gNcvDn3SHB"
      },
      "execution_count": 5,
      "outputs": []
    },
    {
      "cell_type": "markdown",
      "source": [
        "# Step 6: run()"
      ],
      "metadata": {
        "id": "GWcysE7h4rcp"
      }
    },
    {
      "cell_type": "code",
      "source": [
        "def run():\n",
        "    weather = csv_reader('Temperatures.csv')\n",
        "    filter_value = client_input()\n",
        "\n",
        "    avg_temp = average_temperature(weather, filter_value)\n",
        "    max_temp = maximum_temperature(weather, filter_value)\n",
        "    min_temp = minimum_temperature(weather, filter_value)\n",
        "\n",
        "    print(f\"Average Temperature for {filter_value}: {avg_temp:.2f}\")\n",
        "    print(f\"Maximum Temperature for {filter_value}: {max_temp:.2f}\")\n",
        "    print(f\"Minimum Temperature for {filter_value}: {min_temp:.2f}\")\n",
        "\n",
        "# Run the program\n",
        "run()\n"
      ],
      "metadata": {
        "colab": {
          "base_uri": "https://localhost:8080/"
        },
        "id": "ftQ2-wJb3SKX",
        "outputId": "32ac4228-ee14-4707-9975-0dc53ea6d84e"
      },
      "execution_count": 9,
      "outputs": [
        {
          "output_type": "stream",
          "name": "stdout",
          "text": [
            "Please enter a filter: 2015\n",
            "Average Temperature for 2015: 50.89\n",
            "Maximum Temperature for 2015: 94.30\n",
            "Minimum Temperature for 2015: -1.40\n"
          ]
        }
      ]
    }
  ]
}